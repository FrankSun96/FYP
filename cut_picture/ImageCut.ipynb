{
 "cells": [
  {
   "cell_type": "code",
   "execution_count": 1,
   "metadata": {},
   "outputs": [],
   "source": [
    "# coding=utf-8  \n",
    "from PIL import Image  \n",
    "import shutil  \n",
    "import os  \n",
    "\n",
    "class Graphics:  \n",
    "    '''图片处理类\n",
    "    \n",
    "    参数: infile, outfile\n",
    "    ------\n",
    "    infile: 加载图片文件的路径\n",
    "    outfile: 转存图片文件的路径\n",
    "    '''\n",
    "    def __init__(self, infile, outfile):\n",
    "        self.infile = infile\n",
    "        self.outfile = outfile\n",
    "  \n",
    "    def cut_by_ratio(self):  \n",
    "        \"\"\"按照图片长宽进行分割\n",
    "        \n",
    "        参数: None\n",
    "        ------\n",
    "        取中间的部分，裁剪成正方形\n",
    "        \"\"\"  \n",
    "        im = Image.open(self.infile)  \n",
    "        (x, y) = im.size  \n",
    "        if x > y:  \n",
    "            region = (int(x/2-y/2), 0, int(x/2+y/2), y)  \n",
    "            #裁切图片  \n",
    "            crop_img = im.crop(region)  \n",
    "            #保存裁切后的图片  \n",
    "            crop_img.save(self.outfile)             \n",
    "        elif x < y:  \n",
    "            region = (0, int(y/2-x/2), x, int(y/2+x/2))\n",
    "            #裁切图片  \n",
    "            crop_img = im.crop(region)  \n",
    "            #保存裁切后的图片  \n",
    "            crop_img.save(self.outfile)\n"
   ]
  },
  {
   "cell_type": "code",
   "execution_count": null,
   "metadata": {},
   "outputs": [],
   "source": []
  }
 ],
 "metadata": {
  "kernelspec": {
   "display_name": "Python 3",
   "language": "python",
   "name": "python3"
  },
  "language_info": {
   "codemirror_mode": {
    "name": "ipython",
    "version": 3
   },
   "file_extension": ".py",
   "mimetype": "text/x-python",
   "name": "python",
   "nbconvert_exporter": "python",
   "pygments_lexer": "ipython3",
   "version": "3.6.5"
  }
 },
 "nbformat": 4,
 "nbformat_minor": 2
}
